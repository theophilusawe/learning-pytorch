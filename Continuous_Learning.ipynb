{
  "nbformat": 4,
  "nbformat_minor": 0,
  "metadata": {
    "colab": {
      "provenance": [],
      "authorship_tag": "ABX9TyOviWg40nJhTae534TRRBQC",
      "include_colab_link": true
    },
    "kernelspec": {
      "name": "python3",
      "display_name": "Python 3"
    },
    "language_info": {
      "name": "python"
    }
  },
  "cells": [
    {
      "cell_type": "markdown",
      "metadata": {
        "id": "view-in-github",
        "colab_type": "text"
      },
      "source": [
        "<a href=\"https://colab.research.google.com/github/theophilusawe/learning-pytorch/blob/main/Continuous_Learning.ipynb\" target=\"_parent\"><img src=\"https://colab.research.google.com/assets/colab-badge.svg\" alt=\"Open In Colab\"/></a>"
      ]
    },
    {
      "cell_type": "markdown",
      "source": [
        "\n",
        "\n",
        "1.   Neural Networks\n",
        "2.   Weights and Biases\n",
        "\n",
        "\n",
        "1.   Other Activation Functions - Tanh, ReLU, Leaky ReLU, SOftmax\n",
        "2.   Optimizers - Adam, SGD, BatchGD, MiniBatch GD RMSProp\n",
        "3. DataSet and DataLoaders\n",
        "\n",
        "\n",
        "\n",
        "\n",
        "\n"
      ],
      "metadata": {
        "id": "oglXAhsQorGR"
      }
    },
    {
      "cell_type": "code",
      "execution_count": 5,
      "metadata": {
        "id": "JjMSKNTloouo"
      },
      "outputs": [],
      "source": [
        "import torch\n",
        "from torch.utils.data import Dataset, DataLoader, TensorDataset"
      ]
    },
    {
      "cell_type": "code",
      "source": [
        "x = torch.arange(0, 12)\n",
        "x"
      ],
      "metadata": {
        "id": "EyWqy6vrqVp6",
        "colab": {
          "base_uri": "https://localhost:8080/"
        },
        "outputId": "fb7cbc91-bb52-4e25-ceab-ac2f0c453a03"
      },
      "execution_count": 8,
      "outputs": [
        {
          "output_type": "execute_result",
          "data": {
            "text/plain": [
              "tensor([ 0,  1,  2,  3,  4,  5,  6,  7,  8,  9, 10, 11])"
            ]
          },
          "metadata": {},
          "execution_count": 8
        }
      ]
    },
    {
      "cell_type": "code",
      "source": [
        "data_loader = DataLoader(x, batch_size=2, shuffle=True)\n",
        "\n",
        "for i, item in enumerate(data_loader):\n",
        "  print(f'Batch {i}: {item}')"
      ],
      "metadata": {
        "colab": {
          "base_uri": "https://localhost:8080/"
        },
        "id": "oRnF4CmPqy4B",
        "outputId": "f259c7a8-0006-4e29-dde8-f2f5a84e8679"
      },
      "execution_count": 9,
      "outputs": [
        {
          "output_type": "stream",
          "name": "stdout",
          "text": [
            "Batch 0: tensor([9, 1])\n",
            "Batch 1: tensor([2, 8])\n",
            "Batch 2: tensor([0, 5])\n",
            "Batch 3: tensor([6, 3])\n",
            "Batch 4: tensor([11, 10])\n",
            "Batch 5: tensor([7, 4])\n"
          ]
        }
      ]
    },
    {
      "cell_type": "code",
      "source": [
        "from sklearn.datasets import make_classification"
      ],
      "metadata": {
        "id": "M4aMFJv4uzqA"
      },
      "execution_count": 10,
      "outputs": []
    },
    {
      "cell_type": "code",
      "source": [
        "X, y = make_classification(n_samples=10, n_features=10)\n",
        "\n",
        "dataset = TensorDataset(torch.tensor(X), torch.tensor(y))\n",
        "loader = DataLoader(dataset, batch_size=3)\n",
        "\n",
        "for i, item in enumerate(loader):\n",
        "  print(f'Batch {i}: \\n X is {item[0]} and \\n Y is {item[1]}\\n\\n')\n",
        "\n",
        "X"
      ],
      "metadata": {
        "colab": {
          "base_uri": "https://localhost:8080/"
        },
        "id": "hklI9-7MwLQr",
        "outputId": "e6f2185f-ebf2-4561-dc86-0a415a6465d3"
      },
      "execution_count": 11,
      "outputs": [
        {
          "output_type": "stream",
          "name": "stdout",
          "text": [
            "Batch 0: \n",
            " X is tensor([[ 0.3838, -0.0523,  2.1369, -1.7460, -0.7648,  0.7247, -1.4048,  1.2174,\n",
            "         -0.0944,  0.0483],\n",
            "        [ 0.2549, -0.6065, -0.3342,  0.4794, -1.0195, -0.1187, -0.6708, -0.3432,\n",
            "         -1.0363, -0.6727],\n",
            "        [ 0.7521,  0.4935,  1.3112,  0.1337, -0.9655,  0.0233, -0.0742,  0.1737,\n",
            "          0.8957,  0.8292]], dtype=torch.float64) and \n",
            " Y is tensor([1, 0, 1])\n",
            "\n",
            "\n",
            "Batch 1: \n",
            " X is tensor([[-0.4700,  1.0077, -0.1169,  0.3656,  1.7808,  0.2128, -1.0809,  1.0264,\n",
            "          0.6975,  1.1040],\n",
            "        [-1.0759, -2.0862,  0.3294,  1.1271,  0.1463,  0.9305,  0.6702,  0.4550,\n",
            "          2.3599, -2.8875],\n",
            "        [ 0.7725,  0.2700, -0.2057,  0.6280, -1.2037,  1.8682, -0.2985,  1.5892,\n",
            "         -1.4106,  0.5597]], dtype=torch.float64) and \n",
            " Y is tensor([1, 0, 1])\n",
            "\n",
            "\n",
            "Batch 2: \n",
            " X is tensor([[ 1.2171,  0.3913,  1.1704,  1.0577, -1.9269,  1.2605,  1.4397, -1.3292,\n",
            "          0.2011,  0.8398],\n",
            "        [ 0.5399,  0.5629, -1.5361,  0.3020, -0.5065, -0.6323, -0.4401,  0.0576,\n",
            "         -2.1387,  0.8524],\n",
            "        [ 0.0595, -0.9338,  1.2143,  2.2433, -0.9468, -0.2581, -0.1394,  0.9302,\n",
            "         -0.7033, -1.1335]], dtype=torch.float64) and \n",
            " Y is tensor([1, 0, 0])\n",
            "\n",
            "\n",
            "Batch 3: \n",
            " X is tensor([[-0.5956,  0.6172,  0.2368, -0.1465,  1.6664,  0.4559,  0.1906, -0.1452,\n",
            "         -0.1485,  0.5859]], dtype=torch.float64) and \n",
            " Y is tensor([0])\n",
            "\n",
            "\n"
          ]
        },
        {
          "output_type": "execute_result",
          "data": {
            "text/plain": [
              "array([[ 0.38378209, -0.05229328,  2.1368711 , -1.74596341, -0.76476613,\n",
              "         0.72466411, -1.40483345,  1.21741934, -0.09444147,  0.04827208],\n",
              "       [ 0.25489024, -0.60652735, -0.33418598,  0.47942936, -1.01949771,\n",
              "        -0.11871148, -0.67081278, -0.34322322, -1.03625664, -0.67274955],\n",
              "       [ 0.75208884,  0.49350467,  1.3111514 ,  0.13374749, -0.96548008,\n",
              "         0.02332008, -0.0741553 ,  0.17365164,  0.89571295,  0.82921951],\n",
              "       [-0.47000404,  1.00765588, -0.116885  ,  0.36564101,  1.78081514,\n",
              "         0.21281261, -1.08093797,  1.02642693,  0.69752774,  1.10400349],\n",
              "       [-1.07590705, -2.0861912 ,  0.32935143,  1.12706245,  0.14633343,\n",
              "         0.93046919,  0.67020084,  0.45504616,  2.35988626, -2.88751807],\n",
              "       [ 0.7725117 ,  0.26995018, -0.20565397,  0.62796506, -1.20369718,\n",
              "         1.86819232, -0.29850059,  1.58921539, -1.41056266,  0.55966001],\n",
              "       [ 1.21709255,  0.39125618,  1.1704147 ,  1.05767581, -1.92688976,\n",
              "         1.26046146,  1.43972126, -1.32920471,  0.20109653,  0.83977323],\n",
              "       [ 0.53994675,  0.56289291, -1.53609892,  0.30203259, -0.50652388,\n",
              "        -0.63226434, -0.44013606,  0.05761113, -2.13867822,  0.85243564],\n",
              "       [ 0.05954417, -0.93378555,  1.2143341 ,  2.24334345, -0.94683559,\n",
              "        -0.25808089, -0.13941399,  0.93022069, -0.70328805, -1.13351537],\n",
              "       [-0.59557425,  0.61723425,  0.23683793, -0.14652166,  1.66642931,\n",
              "         0.45591264,  0.19055614, -0.14522775, -0.14847498,  0.58587653]])"
            ]
          },
          "metadata": {},
          "execution_count": 11
        }
      ]
    },
    {
      "cell_type": "code",
      "source": [
        "# Creating a sub-class inheriting from the Dataset class\n",
        "\n",
        "class CustomDataset(Dataset):\n",
        "  def __init__(self, X, y):\n",
        "    self.X = torch.tensor(X, dtype=torch.float32)\n",
        "    self.y = torch.tensor(y, dtype=torch.float32)\n",
        "\n",
        "  def __len__(self):\n",
        "    return len(self.X)\n",
        "\n",
        "  def __getitem__(self, idx):\n",
        "    features = self.X[idx]\n",
        "    target = self.y[idx]\n",
        "    return features, target\n",
        "\n",
        "\n",
        "# X, y = make_classification(n_samples=10, n_features=10)\n",
        "X_custom, y_custom = make_classification(n_samples=30,\n",
        "                                         n_features=5, random_state=42)\n",
        "\n",
        "basic = TensorDataset(torch.tensor(X_custom), torch.tensor(y_custom))\n",
        "\n",
        "custom_set = CustomDataset(X_custom, y_custom)\n",
        "another_loader = DataLoader(custom_set,\n",
        "                            shuffle=True, batch_size=10)\n",
        "for i, data_batch in enumerate(another_loader):\n",
        "  print(f'\\nBatch {i}: \\n X is {data_batch[0]}\\n AND\\n\\n Y is {data_batch[1]}\\n')"
      ],
      "metadata": {
        "colab": {
          "base_uri": "https://localhost:8080/"
        },
        "id": "cHN_mW7ZxhXV",
        "outputId": "93a95896-bc42-416b-b5ed-538162484a9b"
      },
      "execution_count": 24,
      "outputs": [
        {
          "output_type": "stream",
          "name": "stdout",
          "text": [
            "\n",
            "Batch 0: \n",
            " X is tensor([[ 0.8485, -0.8085, -0.3585,  0.1332, -0.5423],\n",
            "        [-0.0497, -1.4154,  1.7494, -1.8409, -1.7188],\n",
            "        [ 0.1343, -0.2346,  0.9309, -1.0264, -1.0862],\n",
            "        [-0.8505, -0.5298, -0.5018,  0.7798,  1.4158],\n",
            "        [ 0.9978, -1.4635, -0.2626, -0.0120, -0.7988],\n",
            "        [-0.4644, -0.5018, -0.2041,  0.3516,  0.7022],\n",
            "        [ 1.0387, -0.5183, -0.6672,  0.4052, -0.4327],\n",
            "        [ 1.2505,  0.2961, -0.1810, -0.1721, -1.1511],\n",
            "        [-2.2224, -0.3427,  1.1061, -0.5260,  1.2512],\n",
            "        [-2.3184,  0.4041,  1.6011, -1.0231,  0.8522]])\n",
            " AND\n",
            "\n",
            " Y is tensor([0., 0., 0., 1., 0., 0., 0., 0., 1., 1.])\n",
            "\n",
            "\n",
            "Batch 1: \n",
            " X is tensor([[ 0.3139,  0.0971, -1.1641,  1.1432,  0.8441],\n",
            "        [ 0.6287, -0.3921,  0.4586, -0.6694, -1.1354],\n",
            "        [ 0.5539,  0.9686, -1.2376,  1.1513,  0.6625],\n",
            "        [-1.5568, -0.4206,  0.7984, -0.3936,  0.8525],\n",
            "        [ 0.9382,  0.5133, -2.0724,  1.9247,  1.0978],\n",
            "        [ 4.2119,  0.3571, -1.8242,  0.7085, -2.6468],\n",
            "        [ 3.6696, -1.9876, -1.7948,  0.8352, -2.0979],\n",
            "        [ 1.4589, -0.2197, -0.8323,  0.4580, -0.7137],\n",
            "        [ 0.6279, -0.7021, -1.5017,  1.4098,  0.8510],\n",
            "        [ 0.5000,  0.9154, -1.2217,  1.1501,  0.7039]])\n",
            " AND\n",
            "\n",
            " Y is tensor([1., 0., 1., 1., 1., 0., 0., 0., 1., 1.])\n",
            "\n",
            "\n",
            "Batch 2: \n",
            " X is tensor([[-0.5604,  0.2611,  2.1132, -2.0780, -1.5423],\n",
            "        [ 0.1216,  0.0051,  0.5275, -0.5949, -0.6640],\n",
            "        [-2.0849, -0.8023,  1.1581, -0.6213,  1.0518],\n",
            "        [-0.8356, -0.3277,  0.1581,  0.0756,  0.7315],\n",
            "        [-1.4893, -0.1613,  0.6610, -0.2674,  0.9198],\n",
            "        [-1.9625,  0.1746,  1.2239, -0.7267,  0.8545],\n",
            "        [ 1.6065,  0.3288, -2.5107,  2.1950,  0.8287],\n",
            "        [-1.4930,  1.8862,  0.5311, -0.1286,  1.0552],\n",
            "        [ 1.7240,  1.4779, -1.0463,  0.6078, -0.7799],\n",
            "        [ 2.3572,  0.0918, -1.1157,  0.4970, -1.3852]])\n",
            " AND\n",
            "\n",
            " Y is tensor([0., 0., 1., 1., 1., 1., 1., 1., 0., 0.])\n",
            "\n"
          ]
        }
      ]
    },
    {
      "cell_type": "code",
      "source": [],
      "metadata": {
        "id": "4T3ZqHYa5Dq4"
      },
      "execution_count": null,
      "outputs": []
    }
  ]
}