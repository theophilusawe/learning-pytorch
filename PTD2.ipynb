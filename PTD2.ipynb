{
  "nbformat": 4,
  "nbformat_minor": 0,
  "metadata": {
    "colab": {
      "provenance": [],
      "authorship_tag": "ABX9TyOibm+Z2u0+WmgivvU3EFfZ",
      "include_colab_link": true
    },
    "kernelspec": {
      "name": "python3",
      "display_name": "Python 3"
    },
    "language_info": {
      "name": "python"
    }
  },
  "cells": [
    {
      "cell_type": "markdown",
      "metadata": {
        "id": "view-in-github",
        "colab_type": "text"
      },
      "source": [
        "<a href=\"https://colab.research.google.com/github/theophilusawe/learning-pytorch/blob/main/PTD2.ipynb\" target=\"_parent\"><img src=\"https://colab.research.google.com/assets/colab-badge.svg\" alt=\"Open In Colab\"/></a>"
      ]
    },
    {
      "cell_type": "markdown",
      "source": [
        "# DAY 2 - Deep Learning Journey\n",
        "\n",
        "## Reviewing the Basics\n",
        "> ### Logistic Regression\n",
        ">> Implementing a simple logistic regression model that predicts, 0 or 1, the likelihood of breast cancer"
      ],
      "metadata": {
        "id": "E9TeDBmFgFAv"
      }
    },
    {
      "cell_type": "code",
      "execution_count": 9,
      "metadata": {
        "id": "3x-WD5pCRlZ9"
      },
      "outputs": [],
      "source": [
        "import numpy as np\n",
        "from sklearn.datasets import load_diabetes, load_breast_cancer\n",
        "from sklearn.model_selection import train_test_split, KFold"
      ]
    },
    {
      "cell_type": "code",
      "source": [
        "\n",
        "def sigmoid(z):\n",
        "  z_edit = np.array(z, dtype=np.float128)\n",
        "  return 1/(1 + (np.exp(-z_edit)))\n",
        "\n",
        "def calc_error(y_pred, y_test):\n",
        "  return -((y_test * np.log(y_pred)) + ((1 - y_test) * np.log(1 - y_pred)))\n",
        "\n",
        "class LogisticRegression:\n",
        "\n",
        "  def __init__(self, lr=0.001, no_of_iterations=1000):\n",
        "    self.lr = lr\n",
        "    self.no_of_iterations = no_of_iterations\n",
        "    self.weights = None\n",
        "    self.bias = None\n",
        "\n",
        "\n",
        "  def fit(self, X, y):\n",
        "    N_samples, n_features = X.shape\n",
        "    self.weights = np.random.random(n_features)\n",
        "    self.bias = np.random.random(1)\n",
        "\n",
        "    # Gradient Descent Begins\n",
        "    for epoch in range(self.no_of_iterations):\n",
        "\n",
        "      linear_pred = np.dot(X, self.weights) + self.bias   # z = wx + b\n",
        "\n",
        "      # Applying the sigmoid activation function\n",
        "      y_pred = sigmoid(linear_pred)\n",
        "\n",
        "      if epoch % 500 == 0:\n",
        "        pass\n",
        "        # print(f'Epoch: {epoch}; Error: {calc_error(y_pred, y)}')\n",
        "\n",
        "      dw = (1/N_samples) * (np.dot(X.T, (y_pred - y)))\n",
        "      db = (1/N_samples) * np.sum(y_pred - y)\n",
        "\n",
        "      # Updating the weights and the bias\n",
        "      self.weights -= (self.lr * dw)\n",
        "      self.bias -= (self.lr * db)\n",
        "\n",
        "  def predict(self, X_test):\n",
        "\n",
        "    linear_pred = np.dot(X_test, self.weights) + self.bias\n",
        "    y_probs = sigmoid(linear_pred)\n",
        "    y_preds = [1 if result >= 0.5 else 0 for result in y_probs]\n",
        "\n",
        "    return y_preds\n",
        "\n",
        "\n",
        "  def score(self, y_test, y_pred):\n",
        "    pass"
      ],
      "metadata": {
        "id": "D6o3FUW1QGyC"
      },
      "execution_count": 14,
      "outputs": []
    },
    {
      "cell_type": "code",
      "source": [
        "bc = load_breast_cancer()\n",
        "X, y = bc.data, bc.target\n",
        "\n",
        "X_train, X_test, y_train, y_test = train_test_split(X, y, test_size=0.2,\n",
        "                                                    random_state=42)\n",
        "\n",
        "logreg = LogisticRegression()\n"
      ],
      "metadata": {
        "id": "aHzu771GPq5w"
      },
      "execution_count": 15,
      "outputs": []
    },
    {
      "cell_type": "code",
      "source": [
        "logreg.fit(X_train, y_train)\n",
        "pred = logreg.predict(X_test)"
      ],
      "metadata": {
        "id": "vWniCg_khEPm"
      },
      "execution_count": 16,
      "outputs": []
    },
    {
      "cell_type": "code",
      "source": [
        "def accuracy(y_pred, y_test):\n",
        "  return np.mean(y_pred==y_test)"
      ],
      "metadata": {
        "id": "3-aupFfShGuG"
      },
      "execution_count": 17,
      "outputs": []
    },
    {
      "cell_type": "code",
      "source": [
        "accuracy(pred, y_test)"
      ],
      "metadata": {
        "colab": {
          "base_uri": "https://localhost:8080/"
        },
        "id": "c41tvWA7ijSf",
        "outputId": "3f692d0c-f406-4d9b-d6fe-077e3e6fa801"
      },
      "execution_count": 18,
      "outputs": [
        {
          "output_type": "execute_result",
          "data": {
            "text/plain": [
              "np.float64(0.9385964912280702)"
            ]
          },
          "metadata": {},
          "execution_count": 18
        }
      ]
    },
    {
      "cell_type": "code",
      "source": [],
      "metadata": {
        "id": "Tk_XNNqAiRHI"
      },
      "execution_count": null,
      "outputs": []
    }
  ]
}