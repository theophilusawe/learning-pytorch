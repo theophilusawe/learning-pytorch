{
  "nbformat": 4,
  "nbformat_minor": 0,
  "metadata": {
    "colab": {
      "provenance": [],
      "authorship_tag": "ABX9TyOtLmpbY1o4ftiGQB1NcdqQ",
      "include_colab_link": true
    },
    "kernelspec": {
      "name": "python3",
      "display_name": "Python 3"
    },
    "language_info": {
      "name": "python"
    }
  },
  "cells": [
    {
      "cell_type": "markdown",
      "metadata": {
        "id": "view-in-github",
        "colab_type": "text"
      },
      "source": [
        "<a href=\"https://colab.research.google.com/github/theophilusawe/learning-pytorch/blob/main/PTD1.ipynb\" target=\"_parent\"><img src=\"https://colab.research.google.com/assets/colab-badge.svg\" alt=\"Open In Colab\"/></a>"
      ]
    },
    {
      "cell_type": "markdown",
      "source": [
        "Day 1 of Learning PyTorch\n",
        " - Initialization of Weights\n",
        " - Getting input data\n",
        " - Calulating Error\n",
        " - Calculating derivates\n",
        " - Updating weights using gradient descent\n",
        " - Repetition until complete iteration or insignificant error"
      ],
      "metadata": {
        "id": "OTv9KTkZ2MFF"
      }
    },
    {
      "cell_type": "code",
      "execution_count": 92,
      "metadata": {
        "id": "y3i47zoG2Gsj"
      },
      "outputs": [],
      "source": [
        "import numpy as np"
      ]
    },
    {
      "cell_type": "code",
      "source": [
        "def calc_error_mse(y, y_pred):\n",
        "\n",
        "  '''\n",
        "  Calculates the mean squared error between the actual values\n",
        "  and predicted values\n",
        "\n",
        "  Parameters\n",
        "  ----------\n",
        "  y: np.array --> The actual values\n",
        "\n",
        "  y_pred: np.array --> The predicted values\n",
        "\n",
        "  y and y_pred must be of the same dimensions\n",
        "\n",
        "  Returns: np.float --> The mean squared errors of each row in the datasets\n",
        "  '''\n",
        "\n",
        "  return np.mean((y-y_pred)**2)\n",
        "\n",
        "\n",
        "# Defining the class for the linear regresson model\n",
        "class LinearRegression:\n",
        "\n",
        "  # Initializing the parameters\n",
        "  def __init__(self, lr=0.001, iterations=2000):\n",
        "    self.lr = lr\n",
        "    self.iterations = iterations\n",
        "    self.weights = None\n",
        "    self.bias = None\n",
        "\n",
        "\n",
        "  def fit(self, X, y):\n",
        "\n",
        "    '''\n",
        "    Fits the model by using gradient descent algorithm to train it\n",
        "\n",
        "    Parameters\n",
        "    ----------\n",
        "    X: np.array --> The training datset containing the values of the features\n",
        "\n",
        "    y: np.array --> The training dataset containing the values of the target\n",
        "\n",
        "    Returns None\n",
        "\n",
        "    '''\n",
        "\n",
        "    N, n_features = X.shape\n",
        "\n",
        "    self.weights = np.random.rand(n_features)\n",
        "    self.bias = np.random.rand(1)\n",
        "\n",
        "    # Gradient descent iterations\n",
        "    for iter_epoch in range(self.iterations):\n",
        "      y_pred = np.dot(X, self.weights) + self.bias\n",
        "\n",
        "      if iter_epoch % 500 == 0:\n",
        "        print(f'Epoch: {iter_epoch}, Error: {calc_error_mse(y, y_pred)}')\n",
        "\n",
        "      # Calculating the derivatives\n",
        "      dw = (1/N) * np.dot((2*X).T, (y_pred - y))\n",
        "      db = (1/N) * np.sum(y_pred - y)\n",
        "\n",
        "      # Updating the weights and the biases\n",
        "      self.weights = self.weights - self.lr * dw\n",
        "      self.bias = self.bias - self.lr * db\n",
        "\n",
        "\n",
        "  def predict(self, X):\n",
        "\n",
        "    '''\n",
        "    Parmeters\n",
        "    ---------\n",
        "    X: np.array --> The range of values used to test the model on a test dataset\n",
        "\n",
        "    Output\n",
        "    ------\n",
        "    Returns a np.array that is the evaluation of the model on the test dataset.\n",
        "\n",
        "    '''\n",
        "\n",
        "    return np.dot(X, self.weights) + self.bias\n",
        "\n",
        "\n",
        "\n",
        "  def score(self, nth, y_test, y_pred):\n",
        "\n",
        "    '''\n",
        "    Evaluates the model's perfomance - calculates the root mean square error\n",
        "\n",
        "    Parameters\n",
        "    ----------\n",
        "    nth: int --> Defines the index to evaluate\n",
        "\n",
        "    y_test: np.array --> The actual target values of the test dataset\n",
        "\n",
        "    y_pred: np.array --> The predicted values, done by the model\n",
        "\n",
        "    Output\n",
        "    ------\n",
        "    Returns the root mean squared error of model's prediction at the nth index,\n",
        "    comparing the actual test score and teh model's predicition\n",
        "    '''\n",
        "\n",
        "    return np.sqrt(calc_error_mse(y_test[nth], y_pred[nth]))\n",
        "\n",
        "\n",
        "\n",
        "\n"
      ],
      "metadata": {
        "id": "MQAIXp5a4AGs"
      },
      "execution_count": 93,
      "outputs": []
    },
    {
      "cell_type": "code",
      "source": [
        "from sklearn.model_selection import train_test_split\n",
        "from sklearn.datasets import make_regression\n",
        "\n",
        "# Fabricating dataset and splitting into training and testing sets\n",
        "X, y = make_regression(n_samples=10000, n_features=1,\n",
        "                       random_state=42, noise=20)\n",
        "\n",
        "X_train, X_test, y_train, y_test = train_test_split(X, y, shuffle=True,\n",
        "                                                    test_size=0.3,\n",
        "                                                    random_state=42)\n",
        "\n",
        "# Model Initialization\n",
        "linreg = LinearRegression(iterations=2500, lr=0.001)\n",
        "\n",
        "# Model traning and prediction\n",
        "linreg.fit(X_train, y_train)\n",
        "print(f'\\nWeights: {linreg.weights} \\n' + f'\\nBias: {linreg.bias}\\n\\n')\n",
        "\n",
        "y_pred = linreg.predict(X_test)\n",
        "\n",
        "# Performance evaluation\n",
        "index = 112\n",
        "model_error = linreg.score(index, y_test, y_pred)\n",
        "print(\"The error at {}th is {}\".format(index, model_error))"
      ],
      "metadata": {
        "colab": {
          "base_uri": "https://localhost:8080/"
        },
        "id": "BB8AvSwG2RS6",
        "outputId": "6a507716-ff2f-43f4-df42-9018dd33ae74"
      },
      "execution_count": 94,
      "outputs": [
        {
          "output_type": "stream",
          "name": "stdout",
          "text": [
            "Epoch: 0, Error: 1426.0281882776042\n",
            "Epoch: 500, Error: 537.9638495325078\n",
            "Epoch: 1000, Error: 422.58017163809563\n",
            "Epoch: 1500, Error: 407.5879486334497\n",
            "Epoch: 2000, Error: 405.6396787688365\n",
            "\n",
            "Weights: [31.48574174] \n",
            "\n",
            "Bias: [0.51114216]\n",
            "\n",
            "\n",
            "The error at 112th is 0.21562381612775683\n"
          ]
        }
      ]
    },
    {
      "cell_type": "code",
      "source": [
        "import matplotlib.pyplot as plt\n",
        "\n",
        "plt.plot(X_test, y_pred, color='red', linewidth=2)\n",
        "plt.scatter(X_test, y_test)\n"
      ],
      "metadata": {
        "colab": {
          "base_uri": "https://localhost:8080/",
          "height": 447
        },
        "id": "DlQiCH3n23rs",
        "outputId": "faeda3de-db20-47fb-c7f7-2d2abe0b7932"
      },
      "execution_count": 95,
      "outputs": [
        {
          "output_type": "execute_result",
          "data": {
            "text/plain": [
              "<matplotlib.collections.PathCollection at 0x780bd939d810>"
            ]
          },
          "metadata": {},
          "execution_count": 95
        },
        {
          "output_type": "display_data",
          "data": {
            "text/plain": [
              "<Figure size 640x480 with 1 Axes>"
            ],
            "image/png": "[encoded data removed]"
          },
          "metadata": {}
        }
      ]
    }
  ]
}